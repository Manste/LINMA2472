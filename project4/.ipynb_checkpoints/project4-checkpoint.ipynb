{
 "cells": [
  {
   "cell_type": "markdown",
   "id": "265cd55c",
   "metadata": {},
   "source": [
    "# Import the library"
   ]
  },
  {
   "cell_type": "code",
   "execution_count": 1,
   "id": "78226342",
   "metadata": {},
   "outputs": [],
   "source": [
    "import networkx as nx\n",
    "import pandas as pd\n",
    "import matplotlib.pyplot as plt\n",
    "from networkx.algorithms import bipartite\n",
    "import numpy as np"
   ]
  },
  {
   "cell_type": "markdown",
   "id": "3807d7aa",
   "metadata": {},
   "source": [
    "# Import the dataset"
   ]
  },
  {
   "cell_type": "code",
   "execution_count": 2,
   "id": "1790ecf6",
   "metadata": {},
   "outputs": [],
   "source": [
    "dataset = open('data/out.github', 'r')\n",
    "G = bipartite.parse_edgelist(dataset, nodetype=int, delimiter=' ', comments='%')"
   ]
  },
  {
   "cell_type": "code",
   "execution_count": 8,
   "id": "64b722da",
   "metadata": {},
   "outputs": [
    {
     "name": "stdout",
     "output_type": "stream",
     "text": [
      "\n",
      "*****The number of connected components: 3\n",
      "*****The number of edges: 439930\n",
      "*****The number of nodes: 120867 \n",
      "\n"
     ]
    }
   ],
   "source": [
    "def graph_description(graph):\n",
    "    print(\"\\n*****The number of connected components:\", nx.number_connected_components(graph))\n",
    "    print(\"*****The number of edges:\", graph.number_of_edges())\n",
    "    print(\"*****The number of nodes:\", graph.number_of_nodes(), \"\\n\")\n",
    "    \n",
    "graph_description(G)"
   ]
  },
  {
   "cell_type": "markdown",
   "id": "4e529d32",
   "metadata": {},
   "source": [
    "# Working with separated graph"
   ]
  },
  {
   "cell_type": "code",
   "execution_count": null,
   "id": "40ce105a",
   "metadata": {},
   "outputs": [],
   "source": [
    "u_nodes = [ x for x, y in G.nodes(data=True) if y['bipartite'] == 0 ]\n",
    "p_nodes = [ x for x, y in G.nodes(data=True) if y['bipartite'] == 1 ]\n",
    "G_users = bipartite.projected_graph(G, u_nodes)\n",
    "G_projects = bipartite.projected_graph(G, p_nodes)"
   ]
  },
  {
   "cell_type": "code",
   "execution_count": null,
   "id": "77e101b4",
   "metadata": {},
   "outputs": [],
   "source": []
  }
 ],
 "metadata": {
  "kernelspec": {
   "display_name": "Python 3 (ipykernel)",
   "language": "python",
   "name": "python3"
  },
  "language_info": {
   "codemirror_mode": {
    "name": "ipython",
    "version": 3
   },
   "file_extension": ".py",
   "mimetype": "text/x-python",
   "name": "python",
   "nbconvert_exporter": "python",
   "pygments_lexer": "ipython3",
   "version": "3.8.5"
  }
 },
 "nbformat": 4,
 "nbformat_minor": 5
}
