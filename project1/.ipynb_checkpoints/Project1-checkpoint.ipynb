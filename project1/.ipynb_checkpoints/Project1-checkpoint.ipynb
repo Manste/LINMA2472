{
 "cells": [
  {
   "cell_type": "markdown",
   "metadata": {},
   "source": [
    "# Project1 - Part1"
   ]
  },
  {
   "cell_type": "code",
   "execution_count": null,
   "metadata": {},
   "outputs": [],
   "source": []
  },
  {
   "cell_type": "code",
   "execution_count": 21,
   "metadata": {},
   "outputs": [
    {
     "name": "stdout",
     "output_type": "stream",
     "text": [
      "44\n",
      "TONY (O.S.)\n",
      "Which means, we’re dead in the \n",
      "water.  A thousand light years from \n",
      "the nearest 7-11.\n",
      "INT. BENATAR, GALLEY - FLASHBACK\n",
      "Tony hands Nebula the last of A PURPLE POWDER.  She pushes it \n",
      "back to him.\n",
      "TONY (O.S.)\n",
      "Most of the quote-unquote ‘food’ \n",
      "and potable water ran out two weeks \n",
      "ago.\n",
      "INT. BENATAR, FLIGHT DECK - NIGHT\n",
      "Tony stands on the flight deck, one hand resting on the \n",
      "glass, staring into the unknown.\n",
      "TONY\n",
      "Pep, I know I said no more \n",
      "surprises.  But, I gotta say, I was \n",
      "really hoping to pull off one last \n",
      "one.  But it looks like...well, you \n",
      "know what it looks like. \n",
      "INT. BENATAR, FLIGHT DECK - NIGHT\n",
      "Back to now.  Tony records his thoughts into his helmet.\n",
      "TONY\n",
      "Don’t feel bad about this.  I mean, \n",
      "actually, if you grovel for a \n",
      "couple weeks, and then move on with \n",
      "enormous guilt...I should probably \n",
      "lie down for a minute, rest my \n",
      "eyes.  Please know, when I drift \n",
      "off, it will be like every day \n",
      "lately.  I’m fine, totally fine.  \n",
      "I’m going to dream about you.  It’s \n",
      "always you. \n",
      "Tony switches the helmet off.\n",
      "TIME CUT:\n",
      "NEBULA finds TONY SPRAWLED ON THE FLOOR.\n",
      "TIME CUT:\n"
     ]
    }
   ],
   "source": [
    "import PyPDF"
   ]
  },
  {
   "cell_type": "code",
   "execution_count": 20,
   "metadata": {},
   "outputs": [
    {
     "name": "stdout",
     "output_type": "stream",
     "text": [
      "149\n",
      "4TONY (O.S.)Which means, weÕre dead in the water.  A thousand light years from the nearest 7-11.INT. BENATAR, GALLEY - FLASHBACKTony hands Nebula the last of A PURPLE POWDER.  She pushes it back to him.TONY (O.S.)Most of the quote-unquote ÔfoodÕ and potable water ran out two weeks ago.INT. BENATAR, FLIGHT DECK - NIGHTTony stands on the flight deck, one hand resting on the glass, staring into the unknown.TONYPep, I know I said no more surprises.  But, I gotta say, I was really hoping to pull off one last one.  But it looks like...well, you know what it looks like. INT. BENATAR, FLIGHT DECK - NIGHTBack to now.  Tony records his thoughts into his helmet.TONYDonÕt feel bad about this.  I mean, actually, if you grovel for a couple weeks, and then move on with enormous guilt...I should probably lie down for a minute, rest my eyes.  Please know, when I drift off, it will be like every day lately.  IÕm fine, totally fine.  IÕm going to dream about you.  ItÕs always you. Tony switches the helmet off.TIME CUT:NEBULA finds TONY SPRAWLED ON THE FLOOR.TIME CUT:4\n"
     ]
    }
   ],
   "source": []
  },
  {
   "cell_type": "code",
   "execution_count": null,
   "metadata": {},
   "outputs": [],
   "source": []
  }
 ],
 "metadata": {
  "kernelspec": {
   "display_name": "Python 3",
   "language": "python",
   "name": "python3"
  },
  "language_info": {
   "codemirror_mode": {
    "name": "ipython",
    "version": 3
   },
   "file_extension": ".py",
   "mimetype": "text/x-python",
   "name": "python",
   "nbconvert_exporter": "python",
   "pygments_lexer": "ipython3",
   "version": "3.8.5"
  }
 },
 "nbformat": 4,
 "nbformat_minor": 4
}
